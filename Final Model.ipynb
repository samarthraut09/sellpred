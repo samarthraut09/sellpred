{
 "cells": [
  {
   "cell_type": "markdown",
   "id": "e2c8d55b",
   "metadata": {},
   "source": [
    "# Sell Prediction for current products on basis of last six months History"
   ]
  },
  {
   "cell_type": "markdown",
   "id": "79e60acf",
   "metadata": {},
   "source": [
    "## Libraries Used"
   ]
  },
  {
   "cell_type": "code",
   "execution_count": 1,
   "id": "bfd1893b",
   "metadata": {},
   "outputs": [],
   "source": [
    "import numpy as np\n",
    "import pandas as pd\n",
    "\n",
    "import matplotlib.pyplot as plt\n",
    "import seaborn as sns\n",
    "\n",
    "from sklearn.model_selection import train_test_split\n",
    "from sklearn.linear_model import LogisticRegression\n",
    "\n",
    "from sklearn.metrics import confusion_matrix, plot_confusion_matrix, classification_report\n",
    "from sklearn.metrics import precision_score, recall_score, f1_score, accuracy_score\n",
    "from sklearn.metrics import roc_auc_score, roc_curve, precision_recall_curve\n",
    "\n",
    "from sklearn.tree import DecisionTreeClassifier\n",
    "\n",
    "from sklearn.model_selection import train_test_split, GridSearchCV, RandomizedSearchCV\n",
    "from sklearn.neighbors import KNeighborsClassifier, KNeighborsRegressor\n",
    "\n",
    "from sklearn.ensemble import VotingClassifier\n",
    "from sklearn.impute import KNNImputer\n",
    "import warnings\n",
    "warnings.filterwarnings('ignore')"
   ]
  },
  {
   "cell_type": "markdown",
   "id": "1aacd37b",
   "metadata": {},
   "source": [
    "## 1) Problem Statement"
   ]
  },
  {
   "cell_type": "code",
   "execution_count": 2,
   "id": "b2e25fad",
   "metadata": {},
   "outputs": [],
   "source": [
    "# Predict product will sold or not in next 6 months\n",
    "# by using independent variables\n",
    "# File_Type , SKU_number, SoldFlag, SoldCount, MarketingType, ReleaseNumber, New_Release_Flag, StrengthFactor, \n",
    "# PriceReg, ReleaseYear, ItemCount,  LowUserPrice, LowNetPrice "
   ]
  },
  {
   "cell_type": "markdown",
   "id": "cae19792",
   "metadata": {},
   "source": [
    "## 2) Data Gathering"
   ]
  },
  {
   "cell_type": "code",
   "execution_count": 46,
   "id": "5f5f9db3",
   "metadata": {
    "scrolled": true
   },
   "outputs": [
    {
     "data": {
      "text/html": [
       "<div>\n",
       "<style scoped>\n",
       "    .dataframe tbody tr th:only-of-type {\n",
       "        vertical-align: middle;\n",
       "    }\n",
       "\n",
       "    .dataframe tbody tr th {\n",
       "        vertical-align: top;\n",
       "    }\n",
       "\n",
       "    .dataframe thead th {\n",
       "        text-align: right;\n",
       "    }\n",
       "</style>\n",
       "<table border=\"1\" class=\"dataframe\">\n",
       "  <thead>\n",
       "    <tr style=\"text-align: right;\">\n",
       "      <th></th>\n",
       "      <th>Order</th>\n",
       "      <th>File_Type</th>\n",
       "      <th>SKU_number</th>\n",
       "      <th>SoldFlag</th>\n",
       "      <th>SoldCount</th>\n",
       "      <th>MarketingType</th>\n",
       "      <th>ReleaseNumber</th>\n",
       "      <th>New_Release_Flag</th>\n",
       "      <th>StrengthFactor</th>\n",
       "      <th>PriceReg</th>\n",
       "      <th>ReleaseYear</th>\n",
       "      <th>ItemCount</th>\n",
       "      <th>LowUserPrice</th>\n",
       "      <th>LowNetPrice</th>\n",
       "    </tr>\n",
       "  </thead>\n",
       "  <tbody>\n",
       "    <tr>\n",
       "      <th>0</th>\n",
       "      <td>2</td>\n",
       "      <td>Historical</td>\n",
       "      <td>1737127</td>\n",
       "      <td>0.0</td>\n",
       "      <td>0</td>\n",
       "      <td>D</td>\n",
       "      <td>15</td>\n",
       "      <td>1</td>\n",
       "      <td>682743</td>\n",
       "      <td>98.793482</td>\n",
       "      <td>2015</td>\n",
       "      <td>8</td>\n",
       "      <td>28.97</td>\n",
       "      <td>31.84</td>\n",
       "    </tr>\n",
       "    <tr>\n",
       "      <th>1</th>\n",
       "      <td>3</td>\n",
       "      <td>Historical</td>\n",
       "      <td>3255963</td>\n",
       "      <td>0.0</td>\n",
       "      <td>0</td>\n",
       "      <td>D</td>\n",
       "      <td>7</td>\n",
       "      <td>1</td>\n",
       "      <td>1016014</td>\n",
       "      <td>24.810000</td>\n",
       "      <td>2005</td>\n",
       "      <td>39</td>\n",
       "      <td>0.00</td>\n",
       "      <td>15.54</td>\n",
       "    </tr>\n",
       "    <tr>\n",
       "      <th>2</th>\n",
       "      <td>4</td>\n",
       "      <td>Historical</td>\n",
       "      <td>612701</td>\n",
       "      <td>0.0</td>\n",
       "      <td>0</td>\n",
       "      <td>D</td>\n",
       "      <td>0</td>\n",
       "      <td>0</td>\n",
       "      <td>340464</td>\n",
       "      <td>46.000000</td>\n",
       "      <td>2013</td>\n",
       "      <td>34</td>\n",
       "      <td>30.19</td>\n",
       "      <td>27.97</td>\n",
       "    </tr>\n",
       "    <tr>\n",
       "      <th>3</th>\n",
       "      <td>6</td>\n",
       "      <td>Historical</td>\n",
       "      <td>115883</td>\n",
       "      <td>1.0</td>\n",
       "      <td>1</td>\n",
       "      <td>D</td>\n",
       "      <td>4</td>\n",
       "      <td>1</td>\n",
       "      <td>334011</td>\n",
       "      <td>100.000000</td>\n",
       "      <td>2006</td>\n",
       "      <td>20</td>\n",
       "      <td>133.93</td>\n",
       "      <td>83.15</td>\n",
       "    </tr>\n",
       "    <tr>\n",
       "      <th>4</th>\n",
       "      <td>7</td>\n",
       "      <td>Historical</td>\n",
       "      <td>863939</td>\n",
       "      <td>1.0</td>\n",
       "      <td>1</td>\n",
       "      <td>D</td>\n",
       "      <td>2</td>\n",
       "      <td>1</td>\n",
       "      <td>1287938</td>\n",
       "      <td>121.950000</td>\n",
       "      <td>2010</td>\n",
       "      <td>28</td>\n",
       "      <td>4.00</td>\n",
       "      <td>23.99</td>\n",
       "    </tr>\n",
       "    <tr>\n",
       "      <th>...</th>\n",
       "      <td>...</td>\n",
       "      <td>...</td>\n",
       "      <td>...</td>\n",
       "      <td>...</td>\n",
       "      <td>...</td>\n",
       "      <td>...</td>\n",
       "      <td>...</td>\n",
       "      <td>...</td>\n",
       "      <td>...</td>\n",
       "      <td>...</td>\n",
       "      <td>...</td>\n",
       "      <td>...</td>\n",
       "      <td>...</td>\n",
       "      <td>...</td>\n",
       "    </tr>\n",
       "    <tr>\n",
       "      <th>75991</th>\n",
       "      <td>85102</td>\n",
       "      <td>Historical</td>\n",
       "      <td>863599</td>\n",
       "      <td>0.0</td>\n",
       "      <td>0</td>\n",
       "      <td>S</td>\n",
       "      <td>2</td>\n",
       "      <td>1</td>\n",
       "      <td>119056</td>\n",
       "      <td>64.990000</td>\n",
       "      <td>2008</td>\n",
       "      <td>34</td>\n",
       "      <td>32.49</td>\n",
       "      <td>53.00</td>\n",
       "    </tr>\n",
       "    <tr>\n",
       "      <th>75992</th>\n",
       "      <td>85103</td>\n",
       "      <td>Historical</td>\n",
       "      <td>614304</td>\n",
       "      <td>0.0</td>\n",
       "      <td>0</td>\n",
       "      <td>S</td>\n",
       "      <td>6</td>\n",
       "      <td>1</td>\n",
       "      <td>1115312</td>\n",
       "      <td>21.500000</td>\n",
       "      <td>2004</td>\n",
       "      <td>53</td>\n",
       "      <td>47.99</td>\n",
       "      <td>21.97</td>\n",
       "    </tr>\n",
       "    <tr>\n",
       "      <th>75993</th>\n",
       "      <td>85104</td>\n",
       "      <td>Historical</td>\n",
       "      <td>109021</td>\n",
       "      <td>0.0</td>\n",
       "      <td>0</td>\n",
       "      <td>S</td>\n",
       "      <td>7</td>\n",
       "      <td>1</td>\n",
       "      <td>1315446</td>\n",
       "      <td>142.750000</td>\n",
       "      <td>2006</td>\n",
       "      <td>19</td>\n",
       "      <td>47.99</td>\n",
       "      <td>53.99</td>\n",
       "    </tr>\n",
       "    <tr>\n",
       "      <th>75994</th>\n",
       "      <td>85105</td>\n",
       "      <td>Historical</td>\n",
       "      <td>658242</td>\n",
       "      <td>0.0</td>\n",
       "      <td>0</td>\n",
       "      <td>S</td>\n",
       "      <td>2</td>\n",
       "      <td>1</td>\n",
       "      <td>877788</td>\n",
       "      <td>50.000000</td>\n",
       "      <td>2012</td>\n",
       "      <td>21</td>\n",
       "      <td>27.07</td>\n",
       "      <td>32.62</td>\n",
       "    </tr>\n",
       "    <tr>\n",
       "      <th>75995</th>\n",
       "      <td>85106</td>\n",
       "      <td>Historical</td>\n",
       "      <td>2538340</td>\n",
       "      <td>0.0</td>\n",
       "      <td>0</td>\n",
       "      <td>S</td>\n",
       "      <td>2</td>\n",
       "      <td>1</td>\n",
       "      <td>500956</td>\n",
       "      <td>46.950000</td>\n",
       "      <td>2001</td>\n",
       "      <td>23</td>\n",
       "      <td>0.00</td>\n",
       "      <td>37.89</td>\n",
       "    </tr>\n",
       "  </tbody>\n",
       "</table>\n",
       "<p>75996 rows × 14 columns</p>\n",
       "</div>"
      ],
      "text/plain": [
       "       Order   File_Type  SKU_number  SoldFlag  SoldCount MarketingType  \\\n",
       "0          2  Historical     1737127       0.0          0             D   \n",
       "1          3  Historical     3255963       0.0          0             D   \n",
       "2          4  Historical      612701       0.0          0             D   \n",
       "3          6  Historical      115883       1.0          1             D   \n",
       "4          7  Historical      863939       1.0          1             D   \n",
       "...      ...         ...         ...       ...        ...           ...   \n",
       "75991  85102  Historical      863599       0.0          0             S   \n",
       "75992  85103  Historical      614304       0.0          0             S   \n",
       "75993  85104  Historical      109021       0.0          0             S   \n",
       "75994  85105  Historical      658242       0.0          0             S   \n",
       "75995  85106  Historical     2538340       0.0          0             S   \n",
       "\n",
       "       ReleaseNumber  New_Release_Flag  StrengthFactor    PriceReg  \\\n",
       "0                 15                 1          682743   98.793482   \n",
       "1                  7                 1         1016014   24.810000   \n",
       "2                  0                 0          340464   46.000000   \n",
       "3                  4                 1          334011  100.000000   \n",
       "4                  2                 1         1287938  121.950000   \n",
       "...              ...               ...             ...         ...   \n",
       "75991              2                 1          119056   64.990000   \n",
       "75992              6                 1         1115312   21.500000   \n",
       "75993              7                 1         1315446  142.750000   \n",
       "75994              2                 1          877788   50.000000   \n",
       "75995              2                 1          500956   46.950000   \n",
       "\n",
       "       ReleaseYear  ItemCount  LowUserPrice  LowNetPrice  \n",
       "0             2015          8         28.97        31.84  \n",
       "1             2005         39          0.00        15.54  \n",
       "2             2013         34         30.19        27.97  \n",
       "3             2006         20        133.93        83.15  \n",
       "4             2010         28          4.00        23.99  \n",
       "...            ...        ...           ...          ...  \n",
       "75991         2008         34         32.49        53.00  \n",
       "75992         2004         53         47.99        21.97  \n",
       "75993         2006         19         47.99        53.99  \n",
       "75994         2012         21         27.07        32.62  \n",
       "75995         2001         23          0.00        37.89  \n",
       "\n",
       "[75996 rows x 14 columns]"
      ]
     },
     "execution_count": 46,
     "metadata": {},
     "output_type": "execute_result"
    }
   ],
   "source": [
    "hist_df = pd.read_csv(\"Simple_Imputation_mean.csv\")\n",
    "hist_df"
   ]
  },
  {
   "cell_type": "markdown",
   "id": "808ad3cc",
   "metadata": {},
   "source": [
    "## Historical Data"
   ]
  },
  {
   "cell_type": "code",
   "execution_count": 47,
   "id": "e8144155",
   "metadata": {},
   "outputs": [
    {
     "name": "stdout",
     "output_type": "stream",
     "text": [
      "<class 'pandas.core.frame.DataFrame'>\n",
      "RangeIndex: 75996 entries, 0 to 75995\n",
      "Data columns (total 14 columns):\n",
      " #   Column            Non-Null Count  Dtype  \n",
      "---  ------            --------------  -----  \n",
      " 0   Order             75996 non-null  int64  \n",
      " 1   File_Type         75996 non-null  object \n",
      " 2   SKU_number        75996 non-null  int64  \n",
      " 3   SoldFlag          75996 non-null  float64\n",
      " 4   SoldCount         75996 non-null  int64  \n",
      " 5   MarketingType     75996 non-null  object \n",
      " 6   ReleaseNumber     75996 non-null  int64  \n",
      " 7   New_Release_Flag  75996 non-null  int64  \n",
      " 8   StrengthFactor    75996 non-null  int64  \n",
      " 9   PriceReg          75996 non-null  float64\n",
      " 10  ReleaseYear       75996 non-null  int64  \n",
      " 11  ItemCount         75996 non-null  int64  \n",
      " 12  LowUserPrice      75996 non-null  float64\n",
      " 13  LowNetPrice       75996 non-null  float64\n",
      "dtypes: float64(4), int64(8), object(2)\n",
      "memory usage: 8.1+ MB\n"
     ]
    }
   ],
   "source": [
    "hist_df.info()"
   ]
  },
  {
   "cell_type": "code",
   "execution_count": 48,
   "id": "dc7fefe0",
   "metadata": {},
   "outputs": [
    {
     "data": {
      "text/html": [
       "<div>\n",
       "<style scoped>\n",
       "    .dataframe tbody tr th:only-of-type {\n",
       "        vertical-align: middle;\n",
       "    }\n",
       "\n",
       "    .dataframe tbody tr th {\n",
       "        vertical-align: top;\n",
       "    }\n",
       "\n",
       "    .dataframe thead th {\n",
       "        text-align: right;\n",
       "    }\n",
       "</style>\n",
       "<table border=\"1\" class=\"dataframe\">\n",
       "  <thead>\n",
       "    <tr style=\"text-align: right;\">\n",
       "      <th></th>\n",
       "      <th>Order</th>\n",
       "      <th>File_Type</th>\n",
       "      <th>SKU_number</th>\n",
       "      <th>SoldFlag</th>\n",
       "      <th>SoldCount</th>\n",
       "      <th>MarketingType</th>\n",
       "      <th>ReleaseNumber</th>\n",
       "      <th>New_Release_Flag</th>\n",
       "      <th>StrengthFactor</th>\n",
       "      <th>PriceReg</th>\n",
       "      <th>ReleaseYear</th>\n",
       "      <th>ItemCount</th>\n",
       "      <th>LowUserPrice</th>\n",
       "      <th>LowNetPrice</th>\n",
       "    </tr>\n",
       "  </thead>\n",
       "  <tbody>\n",
       "    <tr>\n",
       "      <th>0</th>\n",
       "      <td>2</td>\n",
       "      <td>Historical</td>\n",
       "      <td>1737127</td>\n",
       "      <td>0.0</td>\n",
       "      <td>0.0</td>\n",
       "      <td>D</td>\n",
       "      <td>15</td>\n",
       "      <td>1</td>\n",
       "      <td>682743</td>\n",
       "      <td>44.99</td>\n",
       "      <td>2015</td>\n",
       "      <td>8</td>\n",
       "      <td>28.97</td>\n",
       "      <td>31.84</td>\n",
       "    </tr>\n",
       "    <tr>\n",
       "      <th>1</th>\n",
       "      <td>3</td>\n",
       "      <td>Historical</td>\n",
       "      <td>3255963</td>\n",
       "      <td>0.0</td>\n",
       "      <td>0.0</td>\n",
       "      <td>D</td>\n",
       "      <td>7</td>\n",
       "      <td>1</td>\n",
       "      <td>1016014</td>\n",
       "      <td>24.81</td>\n",
       "      <td>2005</td>\n",
       "      <td>39</td>\n",
       "      <td>0</td>\n",
       "      <td>15.54</td>\n",
       "    </tr>\n",
       "    <tr>\n",
       "      <th>2</th>\n",
       "      <td>4</td>\n",
       "      <td>Historical</td>\n",
       "      <td>612701</td>\n",
       "      <td>0.0</td>\n",
       "      <td>0.0</td>\n",
       "      <td>D</td>\n",
       "      <td>0</td>\n",
       "      <td>0</td>\n",
       "      <td>340464</td>\n",
       "      <td>46.0</td>\n",
       "      <td>2013</td>\n",
       "      <td>34</td>\n",
       "      <td>30.19</td>\n",
       "      <td>27.97</td>\n",
       "    </tr>\n",
       "    <tr>\n",
       "      <th>3</th>\n",
       "      <td>6</td>\n",
       "      <td>Historical</td>\n",
       "      <td>115883</td>\n",
       "      <td>1.0</td>\n",
       "      <td>1.0</td>\n",
       "      <td>D</td>\n",
       "      <td>4</td>\n",
       "      <td>1</td>\n",
       "      <td>334011</td>\n",
       "      <td>100.0</td>\n",
       "      <td>2006</td>\n",
       "      <td>20</td>\n",
       "      <td>133.93</td>\n",
       "      <td>83.15</td>\n",
       "    </tr>\n",
       "    <tr>\n",
       "      <th>4</th>\n",
       "      <td>7</td>\n",
       "      <td>Historical</td>\n",
       "      <td>863939</td>\n",
       "      <td>1.0</td>\n",
       "      <td>1.0</td>\n",
       "      <td>D</td>\n",
       "      <td>2</td>\n",
       "      <td>1</td>\n",
       "      <td>1287938</td>\n",
       "      <td>121.95</td>\n",
       "      <td>2010</td>\n",
       "      <td>28</td>\n",
       "      <td>4</td>\n",
       "      <td>23.99</td>\n",
       "    </tr>\n",
       "    <tr>\n",
       "      <th>...</th>\n",
       "      <td>...</td>\n",
       "      <td>...</td>\n",
       "      <td>...</td>\n",
       "      <td>...</td>\n",
       "      <td>...</td>\n",
       "      <td>...</td>\n",
       "      <td>...</td>\n",
       "      <td>...</td>\n",
       "      <td>...</td>\n",
       "      <td>...</td>\n",
       "      <td>...</td>\n",
       "      <td>...</td>\n",
       "      <td>...</td>\n",
       "      <td>...</td>\n",
       "    </tr>\n",
       "    <tr>\n",
       "      <th>75991</th>\n",
       "      <td>85102</td>\n",
       "      <td>Historical</td>\n",
       "      <td>863599</td>\n",
       "      <td>0.0</td>\n",
       "      <td>0.0</td>\n",
       "      <td>S</td>\n",
       "      <td>2</td>\n",
       "      <td>1</td>\n",
       "      <td>119056</td>\n",
       "      <td>64.99</td>\n",
       "      <td>2008</td>\n",
       "      <td>34</td>\n",
       "      <td>32.49</td>\n",
       "      <td>53</td>\n",
       "    </tr>\n",
       "    <tr>\n",
       "      <th>75992</th>\n",
       "      <td>85103</td>\n",
       "      <td>Historical</td>\n",
       "      <td>614304</td>\n",
       "      <td>0.0</td>\n",
       "      <td>0.0</td>\n",
       "      <td>S</td>\n",
       "      <td>6</td>\n",
       "      <td>1</td>\n",
       "      <td>1115312</td>\n",
       "      <td>21.5</td>\n",
       "      <td>2004</td>\n",
       "      <td>53</td>\n",
       "      <td>47.99</td>\n",
       "      <td>21.97</td>\n",
       "    </tr>\n",
       "    <tr>\n",
       "      <th>75993</th>\n",
       "      <td>85104</td>\n",
       "      <td>Historical</td>\n",
       "      <td>109021</td>\n",
       "      <td>0.0</td>\n",
       "      <td>0.0</td>\n",
       "      <td>S</td>\n",
       "      <td>7</td>\n",
       "      <td>1</td>\n",
       "      <td>1315446</td>\n",
       "      <td>142.75</td>\n",
       "      <td>2006</td>\n",
       "      <td>19</td>\n",
       "      <td>47.99</td>\n",
       "      <td>53.99</td>\n",
       "    </tr>\n",
       "    <tr>\n",
       "      <th>75994</th>\n",
       "      <td>85105</td>\n",
       "      <td>Historical</td>\n",
       "      <td>658242</td>\n",
       "      <td>0.0</td>\n",
       "      <td>0.0</td>\n",
       "      <td>S</td>\n",
       "      <td>2</td>\n",
       "      <td>1</td>\n",
       "      <td>877788</td>\n",
       "      <td>50</td>\n",
       "      <td>2012</td>\n",
       "      <td>21</td>\n",
       "      <td>27.07</td>\n",
       "      <td>32.62</td>\n",
       "    </tr>\n",
       "    <tr>\n",
       "      <th>75995</th>\n",
       "      <td>85106</td>\n",
       "      <td>Historical</td>\n",
       "      <td>2538340</td>\n",
       "      <td>0.0</td>\n",
       "      <td>0.0</td>\n",
       "      <td>S</td>\n",
       "      <td>2</td>\n",
       "      <td>1</td>\n",
       "      <td>500956</td>\n",
       "      <td>46.95</td>\n",
       "      <td>2001</td>\n",
       "      <td>23</td>\n",
       "      <td>0.0</td>\n",
       "      <td>37.89</td>\n",
       "    </tr>\n",
       "  </tbody>\n",
       "</table>\n",
       "<p>75996 rows × 14 columns</p>\n",
       "</div>"
      ],
      "text/plain": [
       "       Order   File_Type  SKU_number  SoldFlag  SoldCount MarketingType  \\\n",
       "0          2  Historical     1737127       0.0        0.0             D   \n",
       "1          3  Historical     3255963       0.0        0.0             D   \n",
       "2          4  Historical      612701       0.0        0.0             D   \n",
       "3          6  Historical      115883       1.0        1.0             D   \n",
       "4          7  Historical      863939       1.0        1.0             D   \n",
       "...      ...         ...         ...       ...        ...           ...   \n",
       "75991  85102  Historical      863599       0.0        0.0             S   \n",
       "75992  85103  Historical      614304       0.0        0.0             S   \n",
       "75993  85104  Historical      109021       0.0        0.0             S   \n",
       "75994  85105  Historical      658242       0.0        0.0             S   \n",
       "75995  85106  Historical     2538340       0.0        0.0             S   \n",
       "\n",
       "       ReleaseNumber  New_Release_Flag StrengthFactor PriceReg  ReleaseYear  \\\n",
       "0                 15                 1         682743    44.99         2015   \n",
       "1                  7                 1        1016014    24.81         2005   \n",
       "2                  0                 0         340464     46.0         2013   \n",
       "3                  4                 1         334011    100.0         2006   \n",
       "4                  2                 1        1287938   121.95         2010   \n",
       "...              ...               ...            ...      ...          ...   \n",
       "75991              2                 1         119056    64.99         2008   \n",
       "75992              6                 1        1115312     21.5         2004   \n",
       "75993              7                 1        1315446   142.75         2006   \n",
       "75994              2                 1         877788       50         2012   \n",
       "75995              2                 1         500956    46.95         2001   \n",
       "\n",
       "      ItemCount LowUserPrice LowNetPrice  \n",
       "0             8        28.97       31.84  \n",
       "1            39            0       15.54  \n",
       "2            34        30.19       27.97  \n",
       "3            20       133.93       83.15  \n",
       "4            28            4       23.99  \n",
       "...         ...          ...         ...  \n",
       "75991        34        32.49          53  \n",
       "75992        53        47.99       21.97  \n",
       "75993        19        47.99       53.99  \n",
       "75994        21        27.07       32.62  \n",
       "75995        23          0.0       37.89  \n",
       "\n",
       "[75996 rows x 14 columns]"
      ]
     },
     "execution_count": 48,
     "metadata": {},
     "output_type": "execute_result"
    }
   ],
   "source": [
    "hist_df = df.groupby('File_Type').get_group('Historical')\n",
    "hist_df"
   ]
  },
  {
   "cell_type": "markdown",
   "id": "832289da",
   "metadata": {},
   "source": [
    "## 3) EDA"
   ]
  },
  {
   "cell_type": "markdown",
   "id": "052ab0d1",
   "metadata": {},
   "source": [
    "#### 3.1 Order"
   ]
  },
  {
   "cell_type": "code",
   "execution_count": 49,
   "id": "42676526",
   "metadata": {},
   "outputs": [],
   "source": [
    "# Order number of each item , can be ignore"
   ]
  },
  {
   "cell_type": "markdown",
   "id": "4c530ba7",
   "metadata": {},
   "source": [
    "#### 3.2 File Type"
   ]
  },
  {
   "cell_type": "code",
   "execution_count": 50,
   "id": "1299df0e",
   "metadata": {},
   "outputs": [],
   "source": [
    "# Histirical data and Active data"
   ]
  },
  {
   "cell_type": "code",
   "execution_count": 51,
   "id": "0b85ca57",
   "metadata": {
    "scrolled": true
   },
   "outputs": [
    {
     "data": {
      "text/plain": [
       "Historical    75996\n",
       "Name: File_Type, dtype: int64"
      ]
     },
     "execution_count": 51,
     "metadata": {},
     "output_type": "execute_result"
    }
   ],
   "source": [
    "hist_df['File_Type'].value_counts()"
   ]
  },
  {
   "cell_type": "markdown",
   "id": "3be4c34b",
   "metadata": {},
   "source": [
    "#### 3.3 SKU Number"
   ]
  },
  {
   "cell_type": "code",
   "execution_count": 52,
   "id": "48c9010d",
   "metadata": {},
   "outputs": [],
   "source": [
    "# unique identifier for each item\n",
    "# as it is identical for every row, can be ignore"
   ]
  },
  {
   "cell_type": "code",
   "execution_count": 53,
   "id": "3992ccec",
   "metadata": {},
   "outputs": [
    {
     "data": {
      "text/plain": [
       "1737127    1\n",
       "195881     1\n",
       "644193     1\n",
       "50987      1\n",
       "148776     1\n",
       "          ..\n",
       "118490     1\n",
       "791735     1\n",
       "2142996    1\n",
       "147567     1\n",
       "2538340    1\n",
       "Name: SKU_number, Length: 75996, dtype: int64"
      ]
     },
     "execution_count": 53,
     "metadata": {},
     "output_type": "execute_result"
    }
   ],
   "source": [
    "hist_df['SKU_number'].value_counts()"
   ]
  },
  {
   "cell_type": "markdown",
   "id": "49888fb7",
   "metadata": {},
   "source": [
    "#### 3.4 Sold FLag"
   ]
  },
  {
   "cell_type": "code",
   "execution_count": 54,
   "id": "df079ed6",
   "metadata": {},
   "outputs": [],
   "source": [
    "# Target Variable\n",
    "# 0 means product is not sold\n",
    "# 1 means product is sold"
   ]
  },
  {
   "cell_type": "code",
   "execution_count": 55,
   "id": "6422d0d3",
   "metadata": {
    "scrolled": true
   },
   "outputs": [
    {
     "data": {
      "text/plain": [
       "0.0    63000\n",
       "1.0    12996\n",
       "Name: SoldFlag, dtype: int64"
      ]
     },
     "execution_count": 55,
     "metadata": {},
     "output_type": "execute_result"
    }
   ],
   "source": [
    "hist_df['SoldFlag'].value_counts()"
   ]
  },
  {
   "cell_type": "markdown",
   "id": "a434f6f8",
   "metadata": {},
   "source": [
    "#### 3.5 Sold count"
   ]
  },
  {
   "cell_type": "code",
   "execution_count": 56,
   "id": "55f91ef2",
   "metadata": {},
   "outputs": [],
   "source": [
    "# Count of sale at one time"
   ]
  },
  {
   "cell_type": "code",
   "execution_count": 57,
   "id": "03188d50",
   "metadata": {
    "scrolled": true
   },
   "outputs": [
    {
     "data": {
      "text/plain": [
       "0.0      62995\n",
       "1.0       8179\n",
       "2.0       2545\n",
       "3.0       1018\n",
       "4.0        483\n",
       "5.0        253\n",
       "6.0        149\n",
       "7.0        121\n",
       "8.0         62\n",
       "9.0         32\n",
       "10.0        30\n",
       "12.0        28\n",
       "11.0        21\n",
       "14.0        11\n",
       "13.0        10\n",
       "16.0         9\n",
       "15.0         6\n",
       "18.0         5\n",
       "19.0         4\n",
       "22.0         4\n",
       "17.0         3\n",
       "27.0         3\n",
       "26.0         3\n",
       "36.0         2\n",
       "21.0         2\n",
       "24.0         2\n",
       "30.0         1\n",
       "40.0         1\n",
       "25.0         1\n",
       "33.0         1\n",
       "28.0         1\n",
       "65.0         1\n",
       "20.0         1\n",
       "35.0         1\n",
       "34.0         1\n",
       "69.0         1\n",
       "150.0        1\n",
       "73.0         1\n",
       "51.0         1\n",
       "159.0        1\n",
       "Name: SoldCount, dtype: int64"
      ]
     },
     "execution_count": 57,
     "metadata": {},
     "output_type": "execute_result"
    }
   ],
   "source": [
    "hist_df['SoldCount'].value_counts()"
   ]
  },
  {
   "cell_type": "code",
   "execution_count": 58,
   "id": "5cd445e6",
   "metadata": {},
   "outputs": [
    {
     "data": {
      "text/plain": [
       "<AxesSubplot:xlabel='SoldFlag', ylabel='SoldCount'>"
      ]
     },
     "execution_count": 58,
     "metadata": {},
     "output_type": "execute_result"
    },
    {
     "data": {
      "image/png": "[encoded data removed]",
      "text/plain": [
       "<Figure size 432x288 with 1 Axes>"
      ]
     },
     "metadata": {
      "needs_background": "light"
     },
     "output_type": "display_data"
    }
   ],
   "source": [
    "sns.boxplot(y= hist_df['SoldCount'], x=hist_df['SoldFlag'])"
   ]
  },
  {
   "cell_type": "code",
   "execution_count": 59,
   "id": "46cfd439",
   "metadata": {},
   "outputs": [
    {
     "data": {
      "text/plain": [
       "<AxesSubplot:xlabel='SoldFlag', ylabel='SoldCount'>"
      ]
     },
     "execution_count": 59,
     "metadata": {},
     "output_type": "execute_result"
    },
    {
     "data": {
      "image/png": "[encoded data removed]",
      "text/plain": [
       "<Figure size 432x288 with 1 Axes>"
      ]
     },
     "metadata": {
      "needs_background": "light"
     },
     "output_type": "display_data"
    }
   ],
   "source": [
    "sns.boxplot(y= hist_df['SoldCount'], x=hist_df['SoldFlag'])"
   ]
  },
  {
   "cell_type": "code",
   "execution_count": 60,
   "id": "bef01235",
   "metadata": {},
   "outputs": [],
   "source": [
    "hist_df[\"SoldCount\"].loc[(hist_df['SoldCount']>=1)&(hist_df[\"SoldFlag\"]==0)] =0 "
   ]
  },
  {
   "cell_type": "code",
   "execution_count": 61,
   "id": "bd99a239",
   "metadata": {},
   "outputs": [],
   "source": [
    "hist_df['SoldCount'] = np.where(hist_df['SoldCount'] > 13,hist_df['SoldCount'].std(),hist_df['SoldCount'])"
   ]
  },
  {
   "cell_type": "markdown",
   "id": "0d980b8e",
   "metadata": {},
   "source": [
    "#### 3.6 Marketing Type"
   ]
  },
  {
   "cell_type": "code",
   "execution_count": 62,
   "id": "47441441",
   "metadata": {},
   "outputs": [],
   "source": [
    "# D type means Direct Marketing\n",
    "# S type means Social media marketing"
   ]
  },
  {
   "cell_type": "code",
   "execution_count": 63,
   "id": "8199d11e",
   "metadata": {},
   "outputs": [
    {
     "data": {
      "text/plain": [
       "S    40877\n",
       "D    35119\n",
       "Name: MarketingType, dtype: int64"
      ]
     },
     "execution_count": 63,
     "metadata": {},
     "output_type": "execute_result"
    }
   ],
   "source": [
    "hist_df[\"MarketingType\"].value_counts()"
   ]
  },
  {
   "cell_type": "code",
   "execution_count": 64,
   "id": "3d9684f3",
   "metadata": {},
   "outputs": [],
   "source": [
    "hist_df[\"MarketingType\"].replace({\"D\":0,\"S\":1}, inplace=True)"
   ]
  },
  {
   "cell_type": "markdown",
   "id": "a65856f3",
   "metadata": {},
   "source": [
    "#### 3.7 Release Number"
   ]
  },
  {
   "cell_type": "code",
   "execution_count": 65,
   "id": "dcffec85",
   "metadata": {},
   "outputs": [],
   "source": [
    "# how many times changes done in original item"
   ]
  },
  {
   "cell_type": "code",
   "execution_count": 66,
   "id": "ab1de522",
   "metadata": {},
   "outputs": [
    {
     "data": {
      "text/plain": [
       "2     16067\n",
       "3     10427\n",
       "1      9500\n",
       "4      7473\n",
       "0      6530\n",
       "      ...  \n",
       "46        1\n",
       "99        1\n",
       "51        1\n",
       "54        1\n",
       "60        1\n",
       "Name: ReleaseNumber, Length: 66, dtype: int64"
      ]
     },
     "execution_count": 66,
     "metadata": {},
     "output_type": "execute_result"
    }
   ],
   "source": [
    "hist_df['ReleaseNumber'].value_counts()"
   ]
  },
  {
   "cell_type": "code",
   "execution_count": 67,
   "id": "04c5d4df",
   "metadata": {},
   "outputs": [],
   "source": [
    "hist_df['ReleaseNumber'] = np.where(hist_df['ReleaseNumber'] > 9,hist_df['ReleaseNumber'].mean(),hist_df['ReleaseNumber'])"
   ]
  },
  {
   "cell_type": "markdown",
   "id": "c104998b",
   "metadata": {},
   "source": [
    "#### 3.8 New Release Flag"
   ]
  },
  {
   "cell_type": "code",
   "execution_count": 68,
   "id": "8347c2cc",
   "metadata": {},
   "outputs": [],
   "source": [
    "# 1 means New one latest verison of item is available\n",
    "# 0 means Old one  verison of item is available"
   ]
  },
  {
   "cell_type": "code",
   "execution_count": 69,
   "id": "2564b36c",
   "metadata": {},
   "outputs": [
    {
     "data": {
      "text/plain": [
       "1    59966\n",
       "0    16030\n",
       "Name: New_Release_Flag, dtype: int64"
      ]
     },
     "execution_count": 69,
     "metadata": {},
     "output_type": "execute_result"
    }
   ],
   "source": [
    "hist_df['New_Release_Flag'].value_counts()"
   ]
  },
  {
   "cell_type": "markdown",
   "id": "1705e22a",
   "metadata": {},
   "source": [
    "#### 3.9 strength Factor"
   ]
  },
  {
   "cell_type": "code",
   "execution_count": 70,
   "id": "800c2f08",
   "metadata": {},
   "outputs": [],
   "source": [
    "# Populiarity index for perticular  item"
   ]
  },
  {
   "cell_type": "code",
   "execution_count": 71,
   "id": "58d98baa",
   "metadata": {},
   "outputs": [
    {
     "data": {
      "text/plain": [
       "197683     3\n",
       "27028      3\n",
       "117720     3\n",
       "586672     3\n",
       "734129     3\n",
       "          ..\n",
       "1517310    1\n",
       "146673     1\n",
       "894019     1\n",
       "1147150    1\n",
       "500956     1\n",
       "Name: StrengthFactor, Length: 74598, dtype: int64"
      ]
     },
     "execution_count": 71,
     "metadata": {},
     "output_type": "execute_result"
    }
   ],
   "source": [
    "hist_df['StrengthFactor'].value_counts()"
   ]
  },
  {
   "cell_type": "markdown",
   "id": "aef2cd56",
   "metadata": {},
   "source": [
    "#### 3.10 Regular Prize"
   ]
  },
  {
   "cell_type": "code",
   "execution_count": 72,
   "id": "076f9a24",
   "metadata": {},
   "outputs": [],
   "source": [
    "# Regular prize of item"
   ]
  },
  {
   "cell_type": "code",
   "execution_count": 73,
   "id": "a1963373",
   "metadata": {},
   "outputs": [
    {
     "data": {
      "text/plain": [
       "7"
      ]
     },
     "execution_count": 73,
     "metadata": {},
     "output_type": "execute_result"
    }
   ],
   "source": [
    "hist_df[\"PriceReg\"].isna().sum()"
   ]
  },
  {
   "cell_type": "code",
   "execution_count": 74,
   "id": "ead4af1b",
   "metadata": {},
   "outputs": [],
   "source": [
    "hist_df[\"PriceReg\"].replace({'LA':np.nan,'?':np.nan,'#':np.nan,'FIFTY':np.nan},inplace = True)"
   ]
  },
  {
   "cell_type": "code",
   "execution_count": 75,
   "id": "9e941a81",
   "metadata": {},
   "outputs": [],
   "source": [
    "hist_df[\"PriceReg\"] = hist_df[\"PriceReg\"].astype(float)"
   ]
  },
  {
   "cell_type": "code",
   "execution_count": 76,
   "id": "16be8852",
   "metadata": {},
   "outputs": [],
   "source": [
    "hist_df[\"PriceReg\"] = np.where(hist_df['PriceReg']>169.575,hist_df[\"PriceReg\"].mean(),hist_df['PriceReg'])"
   ]
  },
  {
   "cell_type": "markdown",
   "id": "765a76bd",
   "metadata": {},
   "source": [
    "#### 3.11 Release Year"
   ]
  },
  {
   "cell_type": "code",
   "execution_count": 77,
   "id": "a683c829",
   "metadata": {},
   "outputs": [],
   "source": [
    "# New one release year of item"
   ]
  },
  {
   "cell_type": "code",
   "execution_count": 78,
   "id": "a8ac8ae9",
   "metadata": {},
   "outputs": [
    {
     "data": {
      "text/plain": [
       "0"
      ]
     },
     "execution_count": 78,
     "metadata": {},
     "output_type": "execute_result"
    }
   ],
   "source": [
    "hist_df[\"ReleaseYear\"].isna().sum()"
   ]
  },
  {
   "cell_type": "code",
   "execution_count": 79,
   "id": "f3ee932a",
   "metadata": {},
   "outputs": [],
   "source": [
    "bins = [1935,2003,2007,2010,2017]\n",
    "labels = ['1935-2003','2003-2007','2007-2010','2010-2017']\n",
    "hist_df[\"ReleaseYear\"] = pd.cut(hist_df['ReleaseYear'], bins = bins, labels=labels)"
   ]
  },
  {
   "cell_type": "code",
   "execution_count": 80,
   "id": "f87ddca6",
   "metadata": {},
   "outputs": [],
   "source": [
    "hist_df['ReleaseYear'].replace({'2003-2007':1,'1935-2003':2,'2007-2010':4,'2010-2017':5},inplace=True)"
   ]
  },
  {
   "cell_type": "code",
   "execution_count": 81,
   "id": "3a4ff789",
   "metadata": {},
   "outputs": [
    {
     "data": {
      "text/plain": [
       "1"
      ]
     },
     "execution_count": 81,
     "metadata": {},
     "output_type": "execute_result"
    }
   ],
   "source": [
    "hist_df['ReleaseYear'].isna().sum()"
   ]
  },
  {
   "cell_type": "code",
   "execution_count": 82,
   "id": "f7268e71",
   "metadata": {},
   "outputs": [],
   "source": [
    "hist_df['ReleaseYear'].fillna(1,inplace = True)"
   ]
  },
  {
   "cell_type": "markdown",
   "id": "3190c7ad",
   "metadata": {},
   "source": [
    "#### 3.11 Item Count"
   ]
  },
  {
   "cell_type": "code",
   "execution_count": 83,
   "id": "f03236d8",
   "metadata": {},
   "outputs": [],
   "source": [
    "# actual quantity of items available"
   ]
  },
  {
   "cell_type": "code",
   "execution_count": 85,
   "id": "88d711a7",
   "metadata": {},
   "outputs": [],
   "source": [
    "hist_df[\"ItemCount\"].replace({'$':np.nan,'?':np.nan,'#':np.nan,'FIFTY':np.nan},inplace = True)"
   ]
  },
  {
   "cell_type": "code",
   "execution_count": 87,
   "id": "c9fea023",
   "metadata": {},
   "outputs": [],
   "source": [
    "hist_df[\"ItemCount\"] = hist_df[\"ItemCount\"].astype(float)"
   ]
  },
  {
   "cell_type": "code",
   "execution_count": 88,
   "id": "b1171bee",
   "metadata": {},
   "outputs": [],
   "source": [
    "hist_df['ItemCount'] = np.where(hist_df['ItemCount'] > 81,hist_df['ItemCount'].mean(),hist_df['ItemCount'])"
   ]
  },
  {
   "cell_type": "markdown",
   "id": "e6425b42",
   "metadata": {},
   "source": [
    "#### 3.12 Low user price"
   ]
  },
  {
   "cell_type": "code",
   "execution_count": null,
   "id": "ee528b6f",
   "metadata": {},
   "outputs": [],
   "source": [
    "# Price of item somewhat profitable than its detoration price"
   ]
  },
  {
   "cell_type": "code",
   "execution_count": 91,
   "id": "42b5b691",
   "metadata": {},
   "outputs": [],
   "source": [
    "hist_df[\"LowUserPrice\"] = hist_df[\"LowUserPrice\"].astype(float)"
   ]
  },
  {
   "cell_type": "code",
   "execution_count": 90,
   "id": "793df5ee",
   "metadata": {},
   "outputs": [],
   "source": [
    "hist_df[\"LowUserPrice\"].replace({'$':np.nan,'?':np.nan,'#':np.nan,'%':np.nan,'@':np.nan},inplace = True)"
   ]
  },
  {
   "cell_type": "code",
   "execution_count": 92,
   "id": "685dc3fc",
   "metadata": {},
   "outputs": [],
   "source": [
    "hist_df['LowUserPrice'] = np.where(hist_df['LowUserPrice']> 139.5,hist_df['LowUserPrice'].mean(),hist_df['LowUserPrice'])"
   ]
  },
  {
   "cell_type": "markdown",
   "id": "00f49c6b",
   "metadata": {},
   "source": [
    "#### 3.12 Low Net price"
   ]
  },
  {
   "cell_type": "code",
   "execution_count": null,
   "id": "48ee258c",
   "metadata": {},
   "outputs": [],
   "source": [
    "# Price without any profit"
   ]
  },
  {
   "cell_type": "code",
   "execution_count": 94,
   "id": "c37db3bb",
   "metadata": {},
   "outputs": [],
   "source": [
    "hist_df[\"LowNetPrice\"] = hist_df[\"LowNetPrice\"].astype(float)"
   ]
  },
  {
   "cell_type": "code",
   "execution_count": 93,
   "id": "2b326297",
   "metadata": {},
   "outputs": [],
   "source": [
    "hist_df[\"LowNetPrice\"].replace({'$':np.nan,'?':np.nan,'#':np.nan,'%':np.nan,'@':np.nan,'A':np.nan,'&':np.nan,'(':np.nan},inplace = True)"
   ]
  },
  {
   "cell_type": "code",
   "execution_count": 95,
   "id": "c7944b7f",
   "metadata": {},
   "outputs": [],
   "source": [
    "hist_df['LowNetPrice'] = np.where(hist_df['LowNetPrice']> 95,hist_df['LowNetPrice'].mean(),hist_df['LowNetPrice'])"
   ]
  },
  {
   "cell_type": "code",
   "execution_count": null,
   "id": "ea5dcbae",
   "metadata": {},
   "outputs": [],
   "source": []
  },
  {
   "cell_type": "markdown",
   "id": "5134f462",
   "metadata": {},
   "source": [
    "### Checking THE Null Value in Dataframe"
   ]
  },
  {
   "cell_type": "code",
   "execution_count": 96,
   "id": "eb00d939",
   "metadata": {
    "scrolled": true
   },
   "outputs": [
    {
     "data": {
      "text/plain": [
       "Order                 0\n",
       "File_Type             0\n",
       "SKU_number            0\n",
       "SoldFlag              0\n",
       "SoldCount             2\n",
       "MarketingType         0\n",
       "ReleaseNumber         0\n",
       "New_Release_Flag      0\n",
       "StrengthFactor        3\n",
       "PriceReg             12\n",
       "ReleaseYear           0\n",
       "ItemCount            35\n",
       "LowUserPrice        100\n",
       "LowNetPrice          89\n",
       "dtype: int64"
      ]
     },
     "execution_count": 96,
     "metadata": {},
     "output_type": "execute_result"
    }
   ],
   "source": [
    "hist_df.isna().sum()"
   ]
  },
  {
   "cell_type": "code",
   "execution_count": 97,
   "id": "1e2df505",
   "metadata": {},
   "outputs": [
    {
     "name": "stdout",
     "output_type": "stream",
     "text": [
      "<class 'pandas.core.frame.DataFrame'>\n",
      "Int64Index: 75996 entries, 0 to 75995\n",
      "Data columns (total 14 columns):\n",
      " #   Column            Non-Null Count  Dtype   \n",
      "---  ------            --------------  -----   \n",
      " 0   Order             75996 non-null  int64   \n",
      " 1   File_Type         75996 non-null  object  \n",
      " 2   SKU_number        75996 non-null  int64   \n",
      " 3   SoldFlag          75996 non-null  float64 \n",
      " 4   SoldCount         75994 non-null  float64 \n",
      " 5   MarketingType     75996 non-null  int64   \n",
      " 6   ReleaseNumber     75996 non-null  float64 \n",
      " 7   New_Release_Flag  75996 non-null  int64   \n",
      " 8   StrengthFactor    75993 non-null  object  \n",
      " 9   PriceReg          75984 non-null  float64 \n",
      " 10  ReleaseYear       75996 non-null  category\n",
      " 11  ItemCount         75961 non-null  float64 \n",
      " 12  LowUserPrice      75896 non-null  float64 \n",
      " 13  LowNetPrice       75907 non-null  float64 \n",
      "dtypes: category(1), float64(7), int64(4), object(2)\n",
      "memory usage: 8.2+ MB\n"
     ]
    }
   ],
   "source": [
    "hist_df.info()"
   ]
  },
  {
   "cell_type": "code",
   "execution_count": 98,
   "id": "0915f694",
   "metadata": {},
   "outputs": [
    {
     "name": "stdout",
     "output_type": "stream",
     "text": [
      "<class 'pandas.core.frame.DataFrame'>\n",
      "Int64Index: 75996 entries, 0 to 75995\n",
      "Data columns (total 14 columns):\n",
      " #   Column            Non-Null Count  Dtype   \n",
      "---  ------            --------------  -----   \n",
      " 0   Order             75996 non-null  int64   \n",
      " 1   File_Type         75996 non-null  object  \n",
      " 2   SKU_number        75996 non-null  int64   \n",
      " 3   SoldFlag          75996 non-null  float64 \n",
      " 4   SoldCount         75994 non-null  float64 \n",
      " 5   MarketingType     75996 non-null  int64   \n",
      " 6   ReleaseNumber     75996 non-null  float64 \n",
      " 7   New_Release_Flag  75996 non-null  int64   \n",
      " 8   StrengthFactor    75993 non-null  object  \n",
      " 9   PriceReg          75984 non-null  float64 \n",
      " 10  ReleaseYear       75996 non-null  category\n",
      " 11  ItemCount         75961 non-null  float64 \n",
      " 12  LowUserPrice      75896 non-null  float64 \n",
      " 13  LowNetPrice       75907 non-null  float64 \n",
      "dtypes: category(1), float64(7), int64(4), object(2)\n",
      "memory usage: 8.2+ MB\n"
     ]
    }
   ],
   "source": [
    "hist_df.info()"
   ]
  },
  {
   "cell_type": "code",
   "execution_count": 99,
   "id": "d053eded",
   "metadata": {},
   "outputs": [],
   "source": [
    "df2 = hist_df.copy()"
   ]
  },
  {
   "cell_type": "code",
   "execution_count": 100,
   "id": "ec927df1",
   "metadata": {},
   "outputs": [],
   "source": [
    "df2.drop(['Order','File_Type','StrengthFactor'],axis=1,inplace=True)"
   ]
  },
  {
   "cell_type": "code",
   "execution_count": 101,
   "id": "986bdada",
   "metadata": {
    "scrolled": true
   },
   "outputs": [
    {
     "name": "stdout",
     "output_type": "stream",
     "text": [
      "<class 'pandas.core.frame.DataFrame'>\n",
      "Int64Index: 75996 entries, 0 to 75995\n",
      "Data columns (total 11 columns):\n",
      " #   Column            Non-Null Count  Dtype   \n",
      "---  ------            --------------  -----   \n",
      " 0   SKU_number        75996 non-null  int64   \n",
      " 1   SoldFlag          75996 non-null  float64 \n",
      " 2   SoldCount         75994 non-null  float64 \n",
      " 3   MarketingType     75996 non-null  int64   \n",
      " 4   ReleaseNumber     75996 non-null  float64 \n",
      " 5   New_Release_Flag  75996 non-null  int64   \n",
      " 6   PriceReg          75984 non-null  float64 \n",
      " 7   ReleaseYear       75996 non-null  category\n",
      " 8   ItemCount         75961 non-null  float64 \n",
      " 9   LowUserPrice      75896 non-null  float64 \n",
      " 10  LowNetPrice       75907 non-null  float64 \n",
      "dtypes: category(1), float64(7), int64(3)\n",
      "memory usage: 6.5 MB\n"
     ]
    }
   ],
   "source": [
    "df2.info()"
   ]
  },
  {
   "cell_type": "code",
   "execution_count": 102,
   "id": "07d2ff4d",
   "metadata": {},
   "outputs": [],
   "source": [
    "df2['ReleaseYear'] = df2['ReleaseYear'].astype(float)"
   ]
  },
  {
   "cell_type": "markdown",
   "id": "1690140a",
   "metadata": {},
   "source": [
    "## Missing value Imptation"
   ]
  },
  {
   "cell_type": "code",
   "execution_count": 103,
   "id": "2c5f6473",
   "metadata": {},
   "outputs": [
    {
     "data": {
      "text/html": [
       "<div>\n",
       "<style scoped>\n",
       "    .dataframe tbody tr th:only-of-type {\n",
       "        vertical-align: middle;\n",
       "    }\n",
       "\n",
       "    .dataframe tbody tr th {\n",
       "        vertical-align: top;\n",
       "    }\n",
       "\n",
       "    .dataframe thead th {\n",
       "        text-align: right;\n",
       "    }\n",
       "</style>\n",
       "<table border=\"1\" class=\"dataframe\">\n",
       "  <thead>\n",
       "    <tr style=\"text-align: right;\">\n",
       "      <th></th>\n",
       "      <th>SKU_number</th>\n",
       "      <th>SoldFlag</th>\n",
       "      <th>SoldCount</th>\n",
       "      <th>MarketingType</th>\n",
       "      <th>ReleaseNumber</th>\n",
       "      <th>New_Release_Flag</th>\n",
       "      <th>PriceReg</th>\n",
       "      <th>ReleaseYear</th>\n",
       "      <th>ItemCount</th>\n",
       "      <th>LowUserPrice</th>\n",
       "      <th>LowNetPrice</th>\n",
       "    </tr>\n",
       "  </thead>\n",
       "  <tbody>\n",
       "    <tr>\n",
       "      <th>0</th>\n",
       "      <td>1737127.0</td>\n",
       "      <td>0.0</td>\n",
       "      <td>0.0</td>\n",
       "      <td>0.0</td>\n",
       "      <td>4.152534</td>\n",
       "      <td>1.0</td>\n",
       "      <td>44.99</td>\n",
       "      <td>5.0</td>\n",
       "      <td>8.0</td>\n",
       "      <td>28.97</td>\n",
       "      <td>31.84</td>\n",
       "    </tr>\n",
       "    <tr>\n",
       "      <th>1</th>\n",
       "      <td>3255963.0</td>\n",
       "      <td>0.0</td>\n",
       "      <td>0.0</td>\n",
       "      <td>0.0</td>\n",
       "      <td>7.000000</td>\n",
       "      <td>1.0</td>\n",
       "      <td>24.81</td>\n",
       "      <td>1.0</td>\n",
       "      <td>39.0</td>\n",
       "      <td>0.00</td>\n",
       "      <td>15.54</td>\n",
       "    </tr>\n",
       "    <tr>\n",
       "      <th>2</th>\n",
       "      <td>612701.0</td>\n",
       "      <td>0.0</td>\n",
       "      <td>0.0</td>\n",
       "      <td>0.0</td>\n",
       "      <td>0.000000</td>\n",
       "      <td>0.0</td>\n",
       "      <td>46.00</td>\n",
       "      <td>5.0</td>\n",
       "      <td>34.0</td>\n",
       "      <td>30.19</td>\n",
       "      <td>27.97</td>\n",
       "    </tr>\n",
       "    <tr>\n",
       "      <th>3</th>\n",
       "      <td>115883.0</td>\n",
       "      <td>1.0</td>\n",
       "      <td>1.0</td>\n",
       "      <td>0.0</td>\n",
       "      <td>4.000000</td>\n",
       "      <td>1.0</td>\n",
       "      <td>100.00</td>\n",
       "      <td>1.0</td>\n",
       "      <td>20.0</td>\n",
       "      <td>133.93</td>\n",
       "      <td>83.15</td>\n",
       "    </tr>\n",
       "    <tr>\n",
       "      <th>4</th>\n",
       "      <td>863939.0</td>\n",
       "      <td>1.0</td>\n",
       "      <td>1.0</td>\n",
       "      <td>0.0</td>\n",
       "      <td>2.000000</td>\n",
       "      <td>1.0</td>\n",
       "      <td>121.95</td>\n",
       "      <td>4.0</td>\n",
       "      <td>28.0</td>\n",
       "      <td>4.00</td>\n",
       "      <td>23.99</td>\n",
       "    </tr>\n",
       "    <tr>\n",
       "      <th>...</th>\n",
       "      <td>...</td>\n",
       "      <td>...</td>\n",
       "      <td>...</td>\n",
       "      <td>...</td>\n",
       "      <td>...</td>\n",
       "      <td>...</td>\n",
       "      <td>...</td>\n",
       "      <td>...</td>\n",
       "      <td>...</td>\n",
       "      <td>...</td>\n",
       "      <td>...</td>\n",
       "    </tr>\n",
       "    <tr>\n",
       "      <th>75991</th>\n",
       "      <td>863599.0</td>\n",
       "      <td>0.0</td>\n",
       "      <td>0.0</td>\n",
       "      <td>1.0</td>\n",
       "      <td>2.000000</td>\n",
       "      <td>1.0</td>\n",
       "      <td>64.99</td>\n",
       "      <td>4.0</td>\n",
       "      <td>34.0</td>\n",
       "      <td>32.49</td>\n",
       "      <td>53.00</td>\n",
       "    </tr>\n",
       "    <tr>\n",
       "      <th>75992</th>\n",
       "      <td>614304.0</td>\n",
       "      <td>0.0</td>\n",
       "      <td>0.0</td>\n",
       "      <td>1.0</td>\n",
       "      <td>6.000000</td>\n",
       "      <td>1.0</td>\n",
       "      <td>21.50</td>\n",
       "      <td>1.0</td>\n",
       "      <td>53.0</td>\n",
       "      <td>47.99</td>\n",
       "      <td>21.97</td>\n",
       "    </tr>\n",
       "    <tr>\n",
       "      <th>75993</th>\n",
       "      <td>109021.0</td>\n",
       "      <td>0.0</td>\n",
       "      <td>0.0</td>\n",
       "      <td>1.0</td>\n",
       "      <td>7.000000</td>\n",
       "      <td>1.0</td>\n",
       "      <td>142.75</td>\n",
       "      <td>1.0</td>\n",
       "      <td>19.0</td>\n",
       "      <td>47.99</td>\n",
       "      <td>53.99</td>\n",
       "    </tr>\n",
       "    <tr>\n",
       "      <th>75994</th>\n",
       "      <td>658242.0</td>\n",
       "      <td>0.0</td>\n",
       "      <td>0.0</td>\n",
       "      <td>1.0</td>\n",
       "      <td>2.000000</td>\n",
       "      <td>1.0</td>\n",
       "      <td>50.00</td>\n",
       "      <td>5.0</td>\n",
       "      <td>21.0</td>\n",
       "      <td>27.07</td>\n",
       "      <td>32.62</td>\n",
       "    </tr>\n",
       "    <tr>\n",
       "      <th>75995</th>\n",
       "      <td>2538340.0</td>\n",
       "      <td>0.0</td>\n",
       "      <td>0.0</td>\n",
       "      <td>1.0</td>\n",
       "      <td>2.000000</td>\n",
       "      <td>1.0</td>\n",
       "      <td>46.95</td>\n",
       "      <td>2.0</td>\n",
       "      <td>23.0</td>\n",
       "      <td>0.00</td>\n",
       "      <td>37.89</td>\n",
       "    </tr>\n",
       "  </tbody>\n",
       "</table>\n",
       "<p>75996 rows × 11 columns</p>\n",
       "</div>"
      ],
      "text/plain": [
       "       SKU_number  SoldFlag  SoldCount  MarketingType  ReleaseNumber  \\\n",
       "0       1737127.0       0.0        0.0            0.0       4.152534   \n",
       "1       3255963.0       0.0        0.0            0.0       7.000000   \n",
       "2        612701.0       0.0        0.0            0.0       0.000000   \n",
       "3        115883.0       1.0        1.0            0.0       4.000000   \n",
       "4        863939.0       1.0        1.0            0.0       2.000000   \n",
       "...           ...       ...        ...            ...            ...   \n",
       "75991    863599.0       0.0        0.0            1.0       2.000000   \n",
       "75992    614304.0       0.0        0.0            1.0       6.000000   \n",
       "75993    109021.0       0.0        0.0            1.0       7.000000   \n",
       "75994    658242.0       0.0        0.0            1.0       2.000000   \n",
       "75995   2538340.0       0.0        0.0            1.0       2.000000   \n",
       "\n",
       "       New_Release_Flag  PriceReg  ReleaseYear  ItemCount  LowUserPrice  \\\n",
       "0                   1.0     44.99          5.0        8.0         28.97   \n",
       "1                   1.0     24.81          1.0       39.0          0.00   \n",
       "2                   0.0     46.00          5.0       34.0         30.19   \n",
       "3                   1.0    100.00          1.0       20.0        133.93   \n",
       "4                   1.0    121.95          4.0       28.0          4.00   \n",
       "...                 ...       ...          ...        ...           ...   \n",
       "75991               1.0     64.99          4.0       34.0         32.49   \n",
       "75992               1.0     21.50          1.0       53.0         47.99   \n",
       "75993               1.0    142.75          1.0       19.0         47.99   \n",
       "75994               1.0     50.00          5.0       21.0         27.07   \n",
       "75995               1.0     46.95          2.0       23.0          0.00   \n",
       "\n",
       "       LowNetPrice  \n",
       "0            31.84  \n",
       "1            15.54  \n",
       "2            27.97  \n",
       "3            83.15  \n",
       "4            23.99  \n",
       "...            ...  \n",
       "75991        53.00  \n",
       "75992        21.97  \n",
       "75993        53.99  \n",
       "75994        32.62  \n",
       "75995        37.89  \n",
       "\n",
       "[75996 rows x 11 columns]"
      ]
     },
     "execution_count": 103,
     "metadata": {},
     "output_type": "execute_result"
    }
   ],
   "source": [
    "knn_imputer = KNNImputer(n_neighbors=5)\n",
    "arr1 = knn_imputer.fit_transform(df2)\n",
    "new_df = pd.DataFrame(arr1, columns=df2.columns)\n",
    "new_df"
   ]
  },
  {
   "cell_type": "code",
   "execution_count": 104,
   "id": "7bf356e7",
   "metadata": {
    "scrolled": true
   },
   "outputs": [
    {
     "name": "stdout",
     "output_type": "stream",
     "text": [
      "<class 'pandas.core.frame.DataFrame'>\n",
      "RangeIndex: 75996 entries, 0 to 75995\n",
      "Data columns (total 11 columns):\n",
      " #   Column            Non-Null Count  Dtype  \n",
      "---  ------            --------------  -----  \n",
      " 0   SKU_number        75996 non-null  float64\n",
      " 1   SoldFlag          75996 non-null  float64\n",
      " 2   SoldCount         75996 non-null  float64\n",
      " 3   MarketingType     75996 non-null  float64\n",
      " 4   ReleaseNumber     75996 non-null  float64\n",
      " 5   New_Release_Flag  75996 non-null  float64\n",
      " 6   PriceReg          75996 non-null  float64\n",
      " 7   ReleaseYear       75996 non-null  float64\n",
      " 8   ItemCount         75996 non-null  float64\n",
      " 9   LowUserPrice      75996 non-null  float64\n",
      " 10  LowNetPrice       75996 non-null  float64\n",
      "dtypes: float64(11)\n",
      "memory usage: 6.4 MB\n"
     ]
    }
   ],
   "source": [
    "new_df.info()"
   ]
  },
  {
   "cell_type": "markdown",
   "id": "6163a31f",
   "metadata": {},
   "source": [
    "## 4) Feature Selection"
   ]
  },
  {
   "cell_type": "markdown",
   "id": "be655f01",
   "metadata": {},
   "source": [
    "### For Increasing the accuracy we are adding some extra columns"
   ]
  },
  {
   "cell_type": "code",
   "execution_count": 105,
   "id": "e8dc0481",
   "metadata": {},
   "outputs": [],
   "source": [
    "new_df[\"Holding_cost\"] = new_df[\"PriceReg\"]*new_df[\"ItemCount\"]\n",
    "new_df[\"profit\"] = new_df[\"PriceReg\"]-new_df[\"LowNetPrice\"]"
   ]
  },
  {
   "cell_type": "code",
   "execution_count": 106,
   "id": "2e9f79f0",
   "metadata": {},
   "outputs": [
    {
     "data": {
      "text/html": [
       "<div>\n",
       "<style scoped>\n",
       "    .dataframe tbody tr th:only-of-type {\n",
       "        vertical-align: middle;\n",
       "    }\n",
       "\n",
       "    .dataframe tbody tr th {\n",
       "        vertical-align: top;\n",
       "    }\n",
       "\n",
       "    .dataframe thead th {\n",
       "        text-align: right;\n",
       "    }\n",
       "</style>\n",
       "<table border=\"1\" class=\"dataframe\">\n",
       "  <thead>\n",
       "    <tr style=\"text-align: right;\">\n",
       "      <th></th>\n",
       "      <th>SKU_number</th>\n",
       "      <th>SoldFlag</th>\n",
       "      <th>SoldCount</th>\n",
       "      <th>MarketingType</th>\n",
       "      <th>ReleaseNumber</th>\n",
       "      <th>New_Release_Flag</th>\n",
       "      <th>PriceReg</th>\n",
       "      <th>ReleaseYear</th>\n",
       "      <th>ItemCount</th>\n",
       "      <th>LowUserPrice</th>\n",
       "      <th>LowNetPrice</th>\n",
       "      <th>Holding_cost</th>\n",
       "      <th>profit</th>\n",
       "    </tr>\n",
       "  </thead>\n",
       "  <tbody>\n",
       "    <tr>\n",
       "      <th>SKU_number</th>\n",
       "      <td>1.000000</td>\n",
       "      <td>-0.108202</td>\n",
       "      <td>-0.086079</td>\n",
       "      <td>0.070716</td>\n",
       "      <td>-0.193572</td>\n",
       "      <td>-0.161232</td>\n",
       "      <td>-0.126564</td>\n",
       "      <td>0.048758</td>\n",
       "      <td>-0.337607</td>\n",
       "      <td>-0.180865</td>\n",
       "      <td>0.124600</td>\n",
       "      <td>-0.296441</td>\n",
       "      <td>-0.197427</td>\n",
       "    </tr>\n",
       "    <tr>\n",
       "      <th>SoldFlag</th>\n",
       "      <td>-0.108202</td>\n",
       "      <td>1.000000</td>\n",
       "      <td>0.731293</td>\n",
       "      <td>-0.220692</td>\n",
       "      <td>0.078066</td>\n",
       "      <td>0.006877</td>\n",
       "      <td>0.070088</td>\n",
       "      <td>0.060431</td>\n",
       "      <td>0.205877</td>\n",
       "      <td>0.149260</td>\n",
       "      <td>-0.010166</td>\n",
       "      <td>0.191576</td>\n",
       "      <td>0.075338</td>\n",
       "    </tr>\n",
       "    <tr>\n",
       "      <th>SoldCount</th>\n",
       "      <td>-0.086079</td>\n",
       "      <td>0.731293</td>\n",
       "      <td>1.000000</td>\n",
       "      <td>-0.186354</td>\n",
       "      <td>0.063051</td>\n",
       "      <td>0.001596</td>\n",
       "      <td>0.054271</td>\n",
       "      <td>0.075316</td>\n",
       "      <td>0.178802</td>\n",
       "      <td>0.129237</td>\n",
       "      <td>-0.010221</td>\n",
       "      <td>0.162922</td>\n",
       "      <td>0.059694</td>\n",
       "    </tr>\n",
       "    <tr>\n",
       "      <th>MarketingType</th>\n",
       "      <td>0.070716</td>\n",
       "      <td>-0.220692</td>\n",
       "      <td>-0.186354</td>\n",
       "      <td>1.000000</td>\n",
       "      <td>-0.007168</td>\n",
       "      <td>0.131475</td>\n",
       "      <td>-0.078419</td>\n",
       "      <td>0.118534</td>\n",
       "      <td>-0.102637</td>\n",
       "      <td>-0.315526</td>\n",
       "      <td>0.040985</td>\n",
       "      <td>-0.133031</td>\n",
       "      <td>-0.101401</td>\n",
       "    </tr>\n",
       "    <tr>\n",
       "      <th>ReleaseNumber</th>\n",
       "      <td>-0.193572</td>\n",
       "      <td>0.078066</td>\n",
       "      <td>0.063051</td>\n",
       "      <td>-0.007168</td>\n",
       "      <td>1.000000</td>\n",
       "      <td>0.630688</td>\n",
       "      <td>0.123756</td>\n",
       "      <td>0.113484</td>\n",
       "      <td>0.171242</td>\n",
       "      <td>0.205882</td>\n",
       "      <td>0.019027</td>\n",
       "      <td>0.198878</td>\n",
       "      <td>0.111664</td>\n",
       "    </tr>\n",
       "    <tr>\n",
       "      <th>New_Release_Flag</th>\n",
       "      <td>-0.161232</td>\n",
       "      <td>0.006877</td>\n",
       "      <td>0.001596</td>\n",
       "      <td>0.131475</td>\n",
       "      <td>0.630688</td>\n",
       "      <td>1.000000</td>\n",
       "      <td>0.076711</td>\n",
       "      <td>0.097365</td>\n",
       "      <td>0.111045</td>\n",
       "      <td>0.120916</td>\n",
       "      <td>0.026530</td>\n",
       "      <td>0.121702</td>\n",
       "      <td>0.060702</td>\n",
       "    </tr>\n",
       "    <tr>\n",
       "      <th>PriceReg</th>\n",
       "      <td>-0.126564</td>\n",
       "      <td>0.070088</td>\n",
       "      <td>0.054271</td>\n",
       "      <td>-0.078419</td>\n",
       "      <td>0.123756</td>\n",
       "      <td>0.076711</td>\n",
       "      <td>1.000000</td>\n",
       "      <td>-0.002700</td>\n",
       "      <td>0.045279</td>\n",
       "      <td>0.268971</td>\n",
       "      <td>0.276016</td>\n",
       "      <td>0.698230</td>\n",
       "      <td>0.831651</td>\n",
       "    </tr>\n",
       "    <tr>\n",
       "      <th>ReleaseYear</th>\n",
       "      <td>0.048758</td>\n",
       "      <td>0.060431</td>\n",
       "      <td>0.075316</td>\n",
       "      <td>0.118534</td>\n",
       "      <td>0.113484</td>\n",
       "      <td>0.097365</td>\n",
       "      <td>-0.002700</td>\n",
       "      <td>1.000000</td>\n",
       "      <td>0.026160</td>\n",
       "      <td>-0.031821</td>\n",
       "      <td>0.124879</td>\n",
       "      <td>0.030826</td>\n",
       "      <td>-0.074824</td>\n",
       "    </tr>\n",
       "    <tr>\n",
       "      <th>ItemCount</th>\n",
       "      <td>-0.337607</td>\n",
       "      <td>0.205877</td>\n",
       "      <td>0.178802</td>\n",
       "      <td>-0.102637</td>\n",
       "      <td>0.171242</td>\n",
       "      <td>0.111045</td>\n",
       "      <td>0.045279</td>\n",
       "      <td>0.026160</td>\n",
       "      <td>1.000000</td>\n",
       "      <td>0.088001</td>\n",
       "      <td>-0.203708</td>\n",
       "      <td>0.675688</td>\n",
       "      <td>0.162568</td>\n",
       "    </tr>\n",
       "    <tr>\n",
       "      <th>LowUserPrice</th>\n",
       "      <td>-0.180865</td>\n",
       "      <td>0.149260</td>\n",
       "      <td>0.129237</td>\n",
       "      <td>-0.315526</td>\n",
       "      <td>0.205882</td>\n",
       "      <td>0.120916</td>\n",
       "      <td>0.268971</td>\n",
       "      <td>-0.031821</td>\n",
       "      <td>0.088001</td>\n",
       "      <td>1.000000</td>\n",
       "      <td>0.154601</td>\n",
       "      <td>0.234402</td>\n",
       "      <td>0.177262</td>\n",
       "    </tr>\n",
       "    <tr>\n",
       "      <th>LowNetPrice</th>\n",
       "      <td>0.124600</td>\n",
       "      <td>-0.010166</td>\n",
       "      <td>-0.010221</td>\n",
       "      <td>0.040985</td>\n",
       "      <td>0.019027</td>\n",
       "      <td>0.026530</td>\n",
       "      <td>0.276016</td>\n",
       "      <td>0.124879</td>\n",
       "      <td>-0.203708</td>\n",
       "      <td>0.154601</td>\n",
       "      <td>1.000000</td>\n",
       "      <td>0.059703</td>\n",
       "      <td>-0.304178</td>\n",
       "    </tr>\n",
       "    <tr>\n",
       "      <th>Holding_cost</th>\n",
       "      <td>-0.296441</td>\n",
       "      <td>0.191576</td>\n",
       "      <td>0.162922</td>\n",
       "      <td>-0.133031</td>\n",
       "      <td>0.198878</td>\n",
       "      <td>0.121702</td>\n",
       "      <td>0.698230</td>\n",
       "      <td>0.030826</td>\n",
       "      <td>0.675688</td>\n",
       "      <td>0.234402</td>\n",
       "      <td>0.059703</td>\n",
       "      <td>1.000000</td>\n",
       "      <td>0.657534</td>\n",
       "    </tr>\n",
       "    <tr>\n",
       "      <th>profit</th>\n",
       "      <td>-0.197427</td>\n",
       "      <td>0.075338</td>\n",
       "      <td>0.059694</td>\n",
       "      <td>-0.101401</td>\n",
       "      <td>0.111664</td>\n",
       "      <td>0.060702</td>\n",
       "      <td>0.831651</td>\n",
       "      <td>-0.074824</td>\n",
       "      <td>0.162568</td>\n",
       "      <td>0.177262</td>\n",
       "      <td>-0.304178</td>\n",
       "      <td>0.657534</td>\n",
       "      <td>1.000000</td>\n",
       "    </tr>\n",
       "  </tbody>\n",
       "</table>\n",
       "</div>"
      ],
      "text/plain": [
       "                  SKU_number  SoldFlag  SoldCount  MarketingType  \\\n",
       "SKU_number          1.000000 -0.108202  -0.086079       0.070716   \n",
       "SoldFlag           -0.108202  1.000000   0.731293      -0.220692   \n",
       "SoldCount          -0.086079  0.731293   1.000000      -0.186354   \n",
       "MarketingType       0.070716 -0.220692  -0.186354       1.000000   \n",
       "ReleaseNumber      -0.193572  0.078066   0.063051      -0.007168   \n",
       "New_Release_Flag   -0.161232  0.006877   0.001596       0.131475   \n",
       "PriceReg           -0.126564  0.070088   0.054271      -0.078419   \n",
       "ReleaseYear         0.048758  0.060431   0.075316       0.118534   \n",
       "ItemCount          -0.337607  0.205877   0.178802      -0.102637   \n",
       "LowUserPrice       -0.180865  0.149260   0.129237      -0.315526   \n",
       "LowNetPrice         0.124600 -0.010166  -0.010221       0.040985   \n",
       "Holding_cost       -0.296441  0.191576   0.162922      -0.133031   \n",
       "profit             -0.197427  0.075338   0.059694      -0.101401   \n",
       "\n",
       "                  ReleaseNumber  New_Release_Flag  PriceReg  ReleaseYear  \\\n",
       "SKU_number            -0.193572         -0.161232 -0.126564     0.048758   \n",
       "SoldFlag               0.078066          0.006877  0.070088     0.060431   \n",
       "SoldCount              0.063051          0.001596  0.054271     0.075316   \n",
       "MarketingType         -0.007168          0.131475 -0.078419     0.118534   \n",
       "ReleaseNumber          1.000000          0.630688  0.123756     0.113484   \n",
       "New_Release_Flag       0.630688          1.000000  0.076711     0.097365   \n",
       "PriceReg               0.123756          0.076711  1.000000    -0.002700   \n",
       "ReleaseYear            0.113484          0.097365 -0.002700     1.000000   \n",
       "ItemCount              0.171242          0.111045  0.045279     0.026160   \n",
       "LowUserPrice           0.205882          0.120916  0.268971    -0.031821   \n",
       "LowNetPrice            0.019027          0.026530  0.276016     0.124879   \n",
       "Holding_cost           0.198878          0.121702  0.698230     0.030826   \n",
       "profit                 0.111664          0.060702  0.831651    -0.074824   \n",
       "\n",
       "                  ItemCount  LowUserPrice  LowNetPrice  Holding_cost    profit  \n",
       "SKU_number        -0.337607     -0.180865     0.124600     -0.296441 -0.197427  \n",
       "SoldFlag           0.205877      0.149260    -0.010166      0.191576  0.075338  \n",
       "SoldCount          0.178802      0.129237    -0.010221      0.162922  0.059694  \n",
       "MarketingType     -0.102637     -0.315526     0.040985     -0.133031 -0.101401  \n",
       "ReleaseNumber      0.171242      0.205882     0.019027      0.198878  0.111664  \n",
       "New_Release_Flag   0.111045      0.120916     0.026530      0.121702  0.060702  \n",
       "PriceReg           0.045279      0.268971     0.276016      0.698230  0.831651  \n",
       "ReleaseYear        0.026160     -0.031821     0.124879      0.030826 -0.074824  \n",
       "ItemCount          1.000000      0.088001    -0.203708      0.675688  0.162568  \n",
       "LowUserPrice       0.088001      1.000000     0.154601      0.234402  0.177262  \n",
       "LowNetPrice       -0.203708      0.154601     1.000000      0.059703 -0.304178  \n",
       "Holding_cost       0.675688      0.234402     0.059703      1.000000  0.657534  \n",
       "profit             0.162568      0.177262    -0.304178      0.657534  1.000000  "
      ]
     },
     "execution_count": 106,
     "metadata": {},
     "output_type": "execute_result"
    }
   ],
   "source": [
    "new_df.corr()"
   ]
  },
  {
   "cell_type": "code",
   "execution_count": 107,
   "id": "22f651ee",
   "metadata": {},
   "outputs": [
    {
     "data": {
      "text/html": [
       "<div>\n",
       "<style scoped>\n",
       "    .dataframe tbody tr th:only-of-type {\n",
       "        vertical-align: middle;\n",
       "    }\n",
       "\n",
       "    .dataframe tbody tr th {\n",
       "        vertical-align: top;\n",
       "    }\n",
       "\n",
       "    .dataframe thead th {\n",
       "        text-align: right;\n",
       "    }\n",
       "</style>\n",
       "<table border=\"1\" class=\"dataframe\">\n",
       "  <thead>\n",
       "    <tr style=\"text-align: right;\">\n",
       "      <th></th>\n",
       "      <th>SoldFlag</th>\n",
       "      <th>MarketingType</th>\n",
       "      <th>New_Release_Flag</th>\n",
       "      <th>PriceReg</th>\n",
       "      <th>ReleaseYear</th>\n",
       "      <th>ItemCount</th>\n",
       "      <th>profit</th>\n",
       "    </tr>\n",
       "  </thead>\n",
       "  <tbody>\n",
       "    <tr>\n",
       "      <th>0</th>\n",
       "      <td>0.0</td>\n",
       "      <td>0.0</td>\n",
       "      <td>1.0</td>\n",
       "      <td>44.99</td>\n",
       "      <td>5.0</td>\n",
       "      <td>8.0</td>\n",
       "      <td>13.15</td>\n",
       "    </tr>\n",
       "    <tr>\n",
       "      <th>1</th>\n",
       "      <td>0.0</td>\n",
       "      <td>0.0</td>\n",
       "      <td>1.0</td>\n",
       "      <td>24.81</td>\n",
       "      <td>1.0</td>\n",
       "      <td>39.0</td>\n",
       "      <td>9.27</td>\n",
       "    </tr>\n",
       "    <tr>\n",
       "      <th>2</th>\n",
       "      <td>0.0</td>\n",
       "      <td>0.0</td>\n",
       "      <td>0.0</td>\n",
       "      <td>46.00</td>\n",
       "      <td>5.0</td>\n",
       "      <td>34.0</td>\n",
       "      <td>18.03</td>\n",
       "    </tr>\n",
       "    <tr>\n",
       "      <th>3</th>\n",
       "      <td>1.0</td>\n",
       "      <td>0.0</td>\n",
       "      <td>1.0</td>\n",
       "      <td>100.00</td>\n",
       "      <td>1.0</td>\n",
       "      <td>20.0</td>\n",
       "      <td>16.85</td>\n",
       "    </tr>\n",
       "    <tr>\n",
       "      <th>4</th>\n",
       "      <td>1.0</td>\n",
       "      <td>0.0</td>\n",
       "      <td>1.0</td>\n",
       "      <td>121.95</td>\n",
       "      <td>4.0</td>\n",
       "      <td>28.0</td>\n",
       "      <td>97.96</td>\n",
       "    </tr>\n",
       "    <tr>\n",
       "      <th>...</th>\n",
       "      <td>...</td>\n",
       "      <td>...</td>\n",
       "      <td>...</td>\n",
       "      <td>...</td>\n",
       "      <td>...</td>\n",
       "      <td>...</td>\n",
       "      <td>...</td>\n",
       "    </tr>\n",
       "    <tr>\n",
       "      <th>75991</th>\n",
       "      <td>0.0</td>\n",
       "      <td>1.0</td>\n",
       "      <td>1.0</td>\n",
       "      <td>64.99</td>\n",
       "      <td>4.0</td>\n",
       "      <td>34.0</td>\n",
       "      <td>11.99</td>\n",
       "    </tr>\n",
       "    <tr>\n",
       "      <th>75992</th>\n",
       "      <td>0.0</td>\n",
       "      <td>1.0</td>\n",
       "      <td>1.0</td>\n",
       "      <td>21.50</td>\n",
       "      <td>1.0</td>\n",
       "      <td>53.0</td>\n",
       "      <td>-0.47</td>\n",
       "    </tr>\n",
       "    <tr>\n",
       "      <th>75993</th>\n",
       "      <td>0.0</td>\n",
       "      <td>1.0</td>\n",
       "      <td>1.0</td>\n",
       "      <td>142.75</td>\n",
       "      <td>1.0</td>\n",
       "      <td>19.0</td>\n",
       "      <td>88.76</td>\n",
       "    </tr>\n",
       "    <tr>\n",
       "      <th>75994</th>\n",
       "      <td>0.0</td>\n",
       "      <td>1.0</td>\n",
       "      <td>1.0</td>\n",
       "      <td>50.00</td>\n",
       "      <td>5.0</td>\n",
       "      <td>21.0</td>\n",
       "      <td>17.38</td>\n",
       "    </tr>\n",
       "    <tr>\n",
       "      <th>75995</th>\n",
       "      <td>0.0</td>\n",
       "      <td>1.0</td>\n",
       "      <td>1.0</td>\n",
       "      <td>46.95</td>\n",
       "      <td>2.0</td>\n",
       "      <td>23.0</td>\n",
       "      <td>9.06</td>\n",
       "    </tr>\n",
       "  </tbody>\n",
       "</table>\n",
       "<p>75996 rows × 7 columns</p>\n",
       "</div>"
      ],
      "text/plain": [
       "       SoldFlag  MarketingType  New_Release_Flag  PriceReg  ReleaseYear  \\\n",
       "0           0.0            0.0               1.0     44.99          5.0   \n",
       "1           0.0            0.0               1.0     24.81          1.0   \n",
       "2           0.0            0.0               0.0     46.00          5.0   \n",
       "3           1.0            0.0               1.0    100.00          1.0   \n",
       "4           1.0            0.0               1.0    121.95          4.0   \n",
       "...         ...            ...               ...       ...          ...   \n",
       "75991       0.0            1.0               1.0     64.99          4.0   \n",
       "75992       0.0            1.0               1.0     21.50          1.0   \n",
       "75993       0.0            1.0               1.0    142.75          1.0   \n",
       "75994       0.0            1.0               1.0     50.00          5.0   \n",
       "75995       0.0            1.0               1.0     46.95          2.0   \n",
       "\n",
       "       ItemCount  profit  \n",
       "0            8.0   13.15  \n",
       "1           39.0    9.27  \n",
       "2           34.0   18.03  \n",
       "3           20.0   16.85  \n",
       "4           28.0   97.96  \n",
       "...          ...     ...  \n",
       "75991       34.0   11.99  \n",
       "75992       53.0   -0.47  \n",
       "75993       19.0   88.76  \n",
       "75994       21.0   17.38  \n",
       "75995       23.0    9.06  \n",
       "\n",
       "[75996 rows x 7 columns]"
      ]
     },
     "execution_count": 107,
     "metadata": {},
     "output_type": "execute_result"
    }
   ],
   "source": [
    "df3= new_df.drop([\"SoldCount\",\"LowNetPrice\",'LowUserPrice','Holding_cost','ReleaseNumber','SKU_number'] ,axis =1)\n",
    "df3"
   ]
  },
  {
   "cell_type": "code",
   "execution_count": 108,
   "id": "aefb1b41",
   "metadata": {},
   "outputs": [],
   "source": [
    "x = df3.drop('SoldFlag',axis=1)"
   ]
  },
  {
   "cell_type": "code",
   "execution_count": 109,
   "id": "a4b72c0d",
   "metadata": {},
   "outputs": [],
   "source": [
    "y = df3['SoldFlag']\n"
   ]
  },
  {
   "cell_type": "code",
   "execution_count": 110,
   "id": "83f34e6c",
   "metadata": {
    "scrolled": true
   },
   "outputs": [
    {
     "data": {
      "text/html": [
       "<div>\n",
       "<style scoped>\n",
       "    .dataframe tbody tr th:only-of-type {\n",
       "        vertical-align: middle;\n",
       "    }\n",
       "\n",
       "    .dataframe tbody tr th {\n",
       "        vertical-align: top;\n",
       "    }\n",
       "\n",
       "    .dataframe thead th {\n",
       "        text-align: right;\n",
       "    }\n",
       "</style>\n",
       "<table border=\"1\" class=\"dataframe\">\n",
       "  <thead>\n",
       "    <tr style=\"text-align: right;\">\n",
       "      <th></th>\n",
       "      <th>MarketingType</th>\n",
       "      <th>New_Release_Flag</th>\n",
       "      <th>PriceReg</th>\n",
       "      <th>ReleaseYear</th>\n",
       "      <th>ItemCount</th>\n",
       "      <th>profit</th>\n",
       "    </tr>\n",
       "  </thead>\n",
       "  <tbody>\n",
       "    <tr>\n",
       "      <th>0</th>\n",
       "      <td>0.0</td>\n",
       "      <td>1.0</td>\n",
       "      <td>44.99</td>\n",
       "      <td>5.0</td>\n",
       "      <td>8.0</td>\n",
       "      <td>13.15</td>\n",
       "    </tr>\n",
       "    <tr>\n",
       "      <th>1</th>\n",
       "      <td>0.0</td>\n",
       "      <td>1.0</td>\n",
       "      <td>24.81</td>\n",
       "      <td>1.0</td>\n",
       "      <td>39.0</td>\n",
       "      <td>9.27</td>\n",
       "    </tr>\n",
       "    <tr>\n",
       "      <th>2</th>\n",
       "      <td>0.0</td>\n",
       "      <td>0.0</td>\n",
       "      <td>46.00</td>\n",
       "      <td>5.0</td>\n",
       "      <td>34.0</td>\n",
       "      <td>18.03</td>\n",
       "    </tr>\n",
       "    <tr>\n",
       "      <th>3</th>\n",
       "      <td>0.0</td>\n",
       "      <td>1.0</td>\n",
       "      <td>100.00</td>\n",
       "      <td>1.0</td>\n",
       "      <td>20.0</td>\n",
       "      <td>16.85</td>\n",
       "    </tr>\n",
       "    <tr>\n",
       "      <th>4</th>\n",
       "      <td>0.0</td>\n",
       "      <td>1.0</td>\n",
       "      <td>121.95</td>\n",
       "      <td>4.0</td>\n",
       "      <td>28.0</td>\n",
       "      <td>97.96</td>\n",
       "    </tr>\n",
       "    <tr>\n",
       "      <th>...</th>\n",
       "      <td>...</td>\n",
       "      <td>...</td>\n",
       "      <td>...</td>\n",
       "      <td>...</td>\n",
       "      <td>...</td>\n",
       "      <td>...</td>\n",
       "    </tr>\n",
       "    <tr>\n",
       "      <th>75991</th>\n",
       "      <td>1.0</td>\n",
       "      <td>1.0</td>\n",
       "      <td>64.99</td>\n",
       "      <td>4.0</td>\n",
       "      <td>34.0</td>\n",
       "      <td>11.99</td>\n",
       "    </tr>\n",
       "    <tr>\n",
       "      <th>75992</th>\n",
       "      <td>1.0</td>\n",
       "      <td>1.0</td>\n",
       "      <td>21.50</td>\n",
       "      <td>1.0</td>\n",
       "      <td>53.0</td>\n",
       "      <td>-0.47</td>\n",
       "    </tr>\n",
       "    <tr>\n",
       "      <th>75993</th>\n",
       "      <td>1.0</td>\n",
       "      <td>1.0</td>\n",
       "      <td>142.75</td>\n",
       "      <td>1.0</td>\n",
       "      <td>19.0</td>\n",
       "      <td>88.76</td>\n",
       "    </tr>\n",
       "    <tr>\n",
       "      <th>75994</th>\n",
       "      <td>1.0</td>\n",
       "      <td>1.0</td>\n",
       "      <td>50.00</td>\n",
       "      <td>5.0</td>\n",
       "      <td>21.0</td>\n",
       "      <td>17.38</td>\n",
       "    </tr>\n",
       "    <tr>\n",
       "      <th>75995</th>\n",
       "      <td>1.0</td>\n",
       "      <td>1.0</td>\n",
       "      <td>46.95</td>\n",
       "      <td>2.0</td>\n",
       "      <td>23.0</td>\n",
       "      <td>9.06</td>\n",
       "    </tr>\n",
       "  </tbody>\n",
       "</table>\n",
       "<p>75996 rows × 6 columns</p>\n",
       "</div>"
      ],
      "text/plain": [
       "       MarketingType  New_Release_Flag  PriceReg  ReleaseYear  ItemCount  \\\n",
       "0                0.0               1.0     44.99          5.0        8.0   \n",
       "1                0.0               1.0     24.81          1.0       39.0   \n",
       "2                0.0               0.0     46.00          5.0       34.0   \n",
       "3                0.0               1.0    100.00          1.0       20.0   \n",
       "4                0.0               1.0    121.95          4.0       28.0   \n",
       "...              ...               ...       ...          ...        ...   \n",
       "75991            1.0               1.0     64.99          4.0       34.0   \n",
       "75992            1.0               1.0     21.50          1.0       53.0   \n",
       "75993            1.0               1.0    142.75          1.0       19.0   \n",
       "75994            1.0               1.0     50.00          5.0       21.0   \n",
       "75995            1.0               1.0     46.95          2.0       23.0   \n",
       "\n",
       "       profit  \n",
       "0       13.15  \n",
       "1        9.27  \n",
       "2       18.03  \n",
       "3       16.85  \n",
       "4       97.96  \n",
       "...       ...  \n",
       "75991   11.99  \n",
       "75992   -0.47  \n",
       "75993   88.76  \n",
       "75994   17.38  \n",
       "75995    9.06  \n",
       "\n",
       "[75996 rows x 6 columns]"
      ]
     },
     "execution_count": 110,
     "metadata": {},
     "output_type": "execute_result"
    }
   ],
   "source": [
    "x"
   ]
  },
  {
   "cell_type": "markdown",
   "id": "6ae532dd",
   "metadata": {},
   "source": [
    "## 5) Modeling"
   ]
  },
  {
   "cell_type": "markdown",
   "id": "e2db0da4",
   "metadata": {},
   "source": [
    "### Train and Test Split"
   ]
  },
  {
   "cell_type": "code",
   "execution_count": 111,
   "id": "1d7dce85",
   "metadata": {},
   "outputs": [],
   "source": [
    "x_train, x_test, y_train, y_test = train_test_split(x, y, test_size= 0.2, random_state=2, stratify=y)"
   ]
  },
  {
   "cell_type": "markdown",
   "id": "df958f83",
   "metadata": {},
   "source": [
    "### Model Building"
   ]
  },
  {
   "cell_type": "code",
   "execution_count": 112,
   "id": "e78e07eb",
   "metadata": {},
   "outputs": [
    {
     "data": {
      "text/plain": [
       "VotingClassifier(estimators=[('DT', DecisionTreeClassifier(random_state=11)),\n",
       "                             ('Log_reg', LogisticRegression(random_state=11)),\n",
       "                             ('KNN', KNeighborsClassifier())],\n",
       "                 n_jobs=-1)"
      ]
     },
     "execution_count": 112,
     "metadata": {},
     "output_type": "execute_result"
    }
   ],
   "source": [
    "clf1 = DecisionTreeClassifier(random_state=11)\n",
    "clf2 = LogisticRegression(random_state=11)\n",
    "clf3 = KNeighborsClassifier()\n",
    "\n",
    "models = [('DT', clf1), ('Log_reg', clf2), ('KNN', clf3)]\n",
    "voting_clf = VotingClassifier(models, n_jobs=-1)\n",
    "voting_clf.fit(x_train,y_train)"
   ]
  },
  {
   "cell_type": "markdown",
   "id": "234bfa1b",
   "metadata": {},
   "source": [
    "## 6) Evaluation"
   ]
  },
  {
   "cell_type": "code",
   "execution_count": 113,
   "id": "28357873",
   "metadata": {},
   "outputs": [
    {
     "name": "stdout",
     "output_type": "stream",
     "text": [
      "***************Train Data Accuracy****************\n",
      "Confusion Matrix :\n",
      " [[50256   143]\n",
      " [ 7351  3046]]\n",
      "Accuracy : 0.8767353115336536\n",
      "Classification Report :\n",
      "               precision    recall  f1-score   support\n",
      "\n",
      "         0.0       0.87      1.00      0.93     50399\n",
      "         1.0       0.96      0.29      0.45     10397\n",
      "\n",
      "    accuracy                           0.88     60796\n",
      "   macro avg       0.91      0.65      0.69     60796\n",
      "weighted avg       0.89      0.88      0.85     60796\n",
      "\n",
      "*#*#*#*#*#*#*#*#*#*#*#*#*#*#*#*#*#*#*#*#*#*#*#*#*#*#*#*#*#*#\n",
      "****************Test Data Accuracy****************\n",
      "Confusion Matrix :\n",
      " [[12250   351]\n",
      " [ 2329   270]]\n",
      "Accuracy : 0.8236842105263158\n",
      "Classification Report :\n",
      "               precision    recall  f1-score   support\n",
      "\n",
      "         0.0       0.84      0.97      0.90     12601\n",
      "         1.0       0.43      0.10      0.17      2599\n",
      "\n",
      "    accuracy                           0.82     15200\n",
      "   macro avg       0.64      0.54      0.53     15200\n",
      "weighted avg       0.77      0.82      0.78     15200\n",
      "\n"
     ]
    }
   ],
   "source": [
    "def evaluation(string, model, ind_var, act):\n",
    "    print(string.center(50, '*'))\n",
    "    \n",
    "    pred = model.predict(ind_var)\n",
    "    cnf_matrix = confusion_matrix(act,pred)\n",
    "    print('Confusion Matrix :\\n', cnf_matrix)\n",
    "    \n",
    "    accuracy = accuracy_score(act, pred)\n",
    "    print('Accuracy :', accuracy)\n",
    "    \n",
    "    clf_report = classification_report(act,pred)\n",
    "    print('Classification Report :\\n',clf_report)\n",
    "    \n",
    "evaluation('Train Data Accuracy', voting_clf, x_train, y_train)\n",
    "print('*#'*30)\n",
    "evaluation('Test Data Accuracy', voting_clf, x_test, y_test)"
   ]
  },
  {
   "cell_type": "markdown",
   "id": "3cfce889",
   "metadata": {},
   "source": [
    "# Prediction"
   ]
  },
  {
   "cell_type": "code",
   "execution_count": 114,
   "id": "88db9769",
   "metadata": {},
   "outputs": [
    {
     "name": "stdout",
     "output_type": "stream",
     "text": [
      "Your Product will not sell in next 6 months\n"
     ]
    }
   ],
   "source": [
    "MarketingType = 1\n",
    "New_Release_Flag = 1\n",
    "PriceReg = 50\n",
    "ReleaseYear = 4\n",
    "ItemCount = 20\n",
    "profit = 10\n",
    "\n",
    "test_array = np.array( [MarketingType, New_Release_Flag, PriceReg, ReleaseYear, ItemCount, profit],ndmin = 2)\n",
    "test_array\n",
    "predicted_value = voting_clf.predict(test_array)[0]\n",
    "if predicted_value == 0:\n",
    "    print('Your Product will not sell in next 6 months')\n",
    "    \n",
    "else:\n",
    "    print('Your Product will sell in next 6 months')"
   ]
  },
  {
   "cell_type": "code",
   "execution_count": null,
   "id": "68f9286c",
   "metadata": {},
   "outputs": [],
   "source": []
  },
  {
   "cell_type": "markdown",
   "id": "d21b746a",
   "metadata": {},
   "source": [
    "# Model Saving"
   ]
  },
  {
   "cell_type": "code",
   "execution_count": 115,
   "id": "3f687e6f",
   "metadata": {},
   "outputs": [],
   "source": [
    "import pickle"
   ]
  },
  {
   "cell_type": "code",
   "execution_count": 116,
   "id": "e0a2a205",
   "metadata": {},
   "outputs": [],
   "source": [
    "pickle.dump(voting_clf, open('voting_clf.pkl','wb'))"
   ]
  },
  {
   "cell_type": "code",
   "execution_count": null,
   "id": "ded76678",
   "metadata": {},
   "outputs": [],
   "source": [
    "{\n",
    "\"data\": {\n",
    "   \"MarketingType\" : 1,\n",
    "\"New_Release_Flag\" : 1,\n",
    "\"PriceReg\" : 50,\n",
    "\"ReleaseYear\" : 4,\n",
    "\"ItemCount\" : 20,\n",
    "\"profit\" : 10}\n",
    "}"
   ]
  }
 ],
 "metadata": {
  "kernelspec": {
   "display_name": "Python 3 (ipykernel)",
   "language": "python",
   "name": "python3"
  },
  "language_info": {
   "codemirror_mode": {
    "name": "ipython",
    "version": 3
   },
   "file_extension": ".py",
   "mimetype": "text/x-python",
   "name": "python",
   "nbconvert_exporter": "python",
   "pygments_lexer": "ipython3",
   "version": "3.9.12"
  }
 },
 "nbformat": 4,
 "nbformat_minor": 5
}
